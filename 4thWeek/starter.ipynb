{
 "cells": [
  {
   "cell_type": "code",
   "execution_count": 6,
   "id": "2c51efaa",
   "metadata": {},
   "outputs": [
    {
     "name": "stdout",
     "output_type": "stream",
     "text": [
      "scikit-learn==1.1.1\n"
     ]
    }
   ],
   "source": [
    "!pip freeze | grep scikit-learn"
   ]
  },
  {
   "cell_type": "code",
   "execution_count": 1,
   "id": "0ef880a0",
   "metadata": {},
   "outputs": [],
   "source": [
    "import os\n",
    "import pickle\n",
    "import pandas as pd\n",
    "import argparse"
   ]
  },
  {
   "cell_type": "code",
   "execution_count": 2,
   "id": "1d06f80f",
   "metadata": {},
   "outputs": [],
   "source": [
    "model_path = \"model.bin\"\n",
    "taxi_type = \"fhv\""
   ]
  },
  {
   "cell_type": "code",
   "execution_count": 3,
   "id": "41c08294",
   "metadata": {},
   "outputs": [],
   "source": [
    "def read_data(filename: str):\n",
    "    df = pd.read_parquet(filename)\n",
    "    \n",
    "    df['duration'] = df.dropOff_datetime - df.pickup_datetime\n",
    "    df['duration'] = df.duration.dt.total_seconds() / 60\n",
    "\n",
    "    df = df[(df.duration >= 1) & (df.duration <= 60)].copy()\n",
    "    \n",
    "    return df\n",
    "\n",
    "def prepare_dictionaries(df: pd.DataFrame):\n",
    "    categorical = ['PUlocationID', 'DOlocationID']\n",
    "    df[categorical] = df[categorical].fillna(-1).astype('int').astype('str')\n",
    "    \n",
    "    dicts = df[categorical].to_dict(orient='records')\n",
    "    \n",
    "    return dicts"
   ]
  },
  {
   "cell_type": "code",
   "execution_count": 4,
   "id": "64202128",
   "metadata": {},
   "outputs": [],
   "source": [
    "def load_model(model_path: str):\n",
    "    with open(model_path, 'rb') as f_in:\n",
    "        dv, lr = pickle.load(f_in)\n",
    "    return dv, lr\n",
    "\n",
    "def apply_model(input_file: str, output_file: str, year: int, month: int):\n",
    "\n",
    "    df = read_data(input_file)\n",
    "    df['ride_id'] = f'{year:04d}/{month:02d}_' + df.index.astype('str')\n",
    "    \n",
    "    dicts = prepare_dictionaries(df)\n",
    "    dv, lr = load_model(model_path)\n",
    "\n",
    "    X_val = dv.transform(dicts)\n",
    "    y_pred = lr.predict(X_val)\n",
    "\n",
    "    df_result = pd.DataFrame()\n",
    "    df_result[\"ride_id\"] = df.ride_id.copy()\n",
    "    df_result[\"predictions\"] = y_pred\n",
    "    \n",
    "    df_result.to_parquet(\n",
    "        output_file,\n",
    "        engine='pyarrow',\n",
    "        compression=None,\n",
    "        index=False\n",
    "    )\n",
    "\n",
    "    return df_result"
   ]
  },
  {
   "cell_type": "code",
   "execution_count": 5,
   "id": "344a5eff",
   "metadata": {},
   "outputs": [],
   "source": [
    "def get_paths(year, month):\n",
    "\n",
    "    input_file = f\"https://nyc-tlc.s3.amazonaws.com/trip+data/{taxi_type}_tripdata_{year:04d}-{month:02d}.parquet\"\n",
    "    output_path = f\"output/{taxi_type}\"\n",
    "\n",
    "    return input_file, output_path"
   ]
  },
  {
   "cell_type": "code",
   "execution_count": null,
   "id": "5924aff1",
   "metadata": {},
   "outputs": [],
   "source": []
  }
 ],
 "metadata": {
  "kernelspec": {
   "display_name": "Python 3.9.12 ('mlops')",
   "language": "python",
   "name": "python3"
  },
  "language_info": {
   "codemirror_mode": {
    "name": "ipython",
    "version": 3
   },
   "file_extension": ".py",
   "mimetype": "text/x-python",
   "name": "python",
   "nbconvert_exporter": "python",
   "pygments_lexer": "ipython3",
   "version": "3.9.12"
  },
  "vscode": {
   "interpreter": {
    "hash": "d34baf48413d7421ea3f8816a6600260bfeb4bc9dde134d6599e12e7dd840d5b"
   }
  }
 },
 "nbformat": 4,
 "nbformat_minor": 5
}
